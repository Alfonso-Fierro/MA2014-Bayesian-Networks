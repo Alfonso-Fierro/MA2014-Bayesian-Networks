{
 "cells": [
  {
   "cell_type": "markdown",
   "id": "9aace8c4",
   "metadata": {},
   "source": [
    "# Solution Template\n",
    "\n",
    "Use this notebook as a guide to implement your solution. Keep in mind that some cells should remain as they are so that you code works properly, for instance, the following cell in which the required libraries are imported."
   ]
  },
  {
   "cell_type": "code",
   "execution_count": 42,
   "id": "1e345adc",
   "metadata": {},
   "outputs": [],
   "source": [
    "import pandas as pd\n",
    "import numpy as np\n",
    "import networkx as nx # for drawing graphs\n",
    "import matplotlib.pyplot as plt # for drawing graphs\n",
    "from pybbn.graph.dag import Bbn # for creating Bayesian Belief Networks (BBN)\n",
    "from pybbn.graph.edge import Edge, EdgeType\n",
    "from pybbn.graph.jointree import EvidenceBuilder\n",
    "from pybbn.graph.node import BbnNode\n",
    "from pybbn.graph.variable import Variable\n",
    "from pybbn.pptc.inferencecontroller import InferenceController"
   ]
  },
  {
   "cell_type": "markdown",
   "id": "f40fd4d1",
   "metadata": {},
   "source": [
    "Just run the next cell to load the data."
   ]
  },
  {
   "cell_type": "code",
   "execution_count": 43,
   "id": "d309c4b0",
   "metadata": {},
   "outputs": [
    {
     "data": {
      "application/vnd.microsoft.datawrangler.viewer.v0+json": {
       "columns": [
        {
         "name": "index",
         "rawType": "int64",
         "type": "integer"
        },
        {
         "name": "Pregnancies",
         "rawType": "int64",
         "type": "integer"
        },
        {
         "name": "Glucose",
         "rawType": "int64",
         "type": "integer"
        },
        {
         "name": "BloodPressure",
         "rawType": "int64",
         "type": "integer"
        },
        {
         "name": "SkinThickness",
         "rawType": "int64",
         "type": "integer"
        },
        {
         "name": "Insulin",
         "rawType": "int64",
         "type": "integer"
        },
        {
         "name": "BMI",
         "rawType": "float64",
         "type": "float"
        },
        {
         "name": "DiabetesPedigreeFunction",
         "rawType": "float64",
         "type": "float"
        },
        {
         "name": "Age",
         "rawType": "int64",
         "type": "integer"
        },
        {
         "name": "Outcome",
         "rawType": "int64",
         "type": "integer"
        }
       ],
       "ref": "ec4c550a-cc80-416c-9d47-67df7d6e7b13",
       "rows": [
        [
         "0",
         "2",
         "138",
         "62",
         "35",
         "0",
         "33.6",
         "0.127",
         "47",
         "1"
        ],
        [
         "1",
         "0",
         "84",
         "82",
         "31",
         "125",
         "38.2",
         "0.233",
         "23",
         "0"
        ],
        [
         "2",
         "0",
         "145",
         "0",
         "0",
         "0",
         "44.2",
         "0.63",
         "31",
         "1"
        ],
        [
         "3",
         "0",
         "135",
         "68",
         "42",
         "250",
         "42.3",
         "0.365",
         "24",
         "1"
        ],
        [
         "4",
         "1",
         "139",
         "62",
         "41",
         "480",
         "40.7",
         "0.536",
         "21",
         "0"
        ]
       ],
       "shape": {
        "columns": 9,
        "rows": 5
       }
      },
      "text/html": [
       "<div>\n",
       "<style scoped>\n",
       "    .dataframe tbody tr th:only-of-type {\n",
       "        vertical-align: middle;\n",
       "    }\n",
       "\n",
       "    .dataframe tbody tr th {\n",
       "        vertical-align: top;\n",
       "    }\n",
       "\n",
       "    .dataframe thead th {\n",
       "        text-align: right;\n",
       "    }\n",
       "</style>\n",
       "<table border=\"1\" class=\"dataframe\">\n",
       "  <thead>\n",
       "    <tr style=\"text-align: right;\">\n",
       "      <th></th>\n",
       "      <th>Pregnancies</th>\n",
       "      <th>Glucose</th>\n",
       "      <th>BloodPressure</th>\n",
       "      <th>SkinThickness</th>\n",
       "      <th>Insulin</th>\n",
       "      <th>BMI</th>\n",
       "      <th>DiabetesPedigreeFunction</th>\n",
       "      <th>Age</th>\n",
       "      <th>Outcome</th>\n",
       "    </tr>\n",
       "  </thead>\n",
       "  <tbody>\n",
       "    <tr>\n",
       "      <th>0</th>\n",
       "      <td>2</td>\n",
       "      <td>138</td>\n",
       "      <td>62</td>\n",
       "      <td>35</td>\n",
       "      <td>0</td>\n",
       "      <td>33.6</td>\n",
       "      <td>0.127</td>\n",
       "      <td>47</td>\n",
       "      <td>1</td>\n",
       "    </tr>\n",
       "    <tr>\n",
       "      <th>1</th>\n",
       "      <td>0</td>\n",
       "      <td>84</td>\n",
       "      <td>82</td>\n",
       "      <td>31</td>\n",
       "      <td>125</td>\n",
       "      <td>38.2</td>\n",
       "      <td>0.233</td>\n",
       "      <td>23</td>\n",
       "      <td>0</td>\n",
       "    </tr>\n",
       "    <tr>\n",
       "      <th>2</th>\n",
       "      <td>0</td>\n",
       "      <td>145</td>\n",
       "      <td>0</td>\n",
       "      <td>0</td>\n",
       "      <td>0</td>\n",
       "      <td>44.2</td>\n",
       "      <td>0.630</td>\n",
       "      <td>31</td>\n",
       "      <td>1</td>\n",
       "    </tr>\n",
       "    <tr>\n",
       "      <th>3</th>\n",
       "      <td>0</td>\n",
       "      <td>135</td>\n",
       "      <td>68</td>\n",
       "      <td>42</td>\n",
       "      <td>250</td>\n",
       "      <td>42.3</td>\n",
       "      <td>0.365</td>\n",
       "      <td>24</td>\n",
       "      <td>1</td>\n",
       "    </tr>\n",
       "    <tr>\n",
       "      <th>4</th>\n",
       "      <td>1</td>\n",
       "      <td>139</td>\n",
       "      <td>62</td>\n",
       "      <td>41</td>\n",
       "      <td>480</td>\n",
       "      <td>40.7</td>\n",
       "      <td>0.536</td>\n",
       "      <td>21</td>\n",
       "      <td>0</td>\n",
       "    </tr>\n",
       "  </tbody>\n",
       "</table>\n",
       "</div>"
      ],
      "text/plain": [
       "   Pregnancies  Glucose  BloodPressure  SkinThickness  Insulin   BMI  \\\n",
       "0            2      138             62             35        0  33.6   \n",
       "1            0       84             82             31      125  38.2   \n",
       "2            0      145              0              0        0  44.2   \n",
       "3            0      135             68             42      250  42.3   \n",
       "4            1      139             62             41      480  40.7   \n",
       "\n",
       "   DiabetesPedigreeFunction  Age  Outcome  \n",
       "0                     0.127   47        1  \n",
       "1                     0.233   23        0  \n",
       "2                     0.630   31        1  \n",
       "3                     0.365   24        1  \n",
       "4                     0.536   21        0  "
      ]
     },
     "execution_count": 43,
     "metadata": {},
     "output_type": "execute_result"
    }
   ],
   "source": [
    "diabetes = pd.read_csv('diabetes-dataset.csv')\n",
    "diabetes.head()"
   ]
  },
  {
   "cell_type": "markdown",
   "id": "0ddde590",
   "metadata": {},
   "source": [
    "Create a new column called `Overweight` in which a person whose `BMI` is above 25 will be tagged as a one, and zero otherwise."
   ]
  },
  {
   "cell_type": "code",
   "execution_count": 44,
   "id": "3584d987",
   "metadata": {},
   "outputs": [
    {
     "data": {
      "application/vnd.microsoft.datawrangler.viewer.v0+json": {
       "columns": [
        {
         "name": "index",
         "rawType": "int64",
         "type": "integer"
        },
        {
         "name": "Pregnancies",
         "rawType": "int64",
         "type": "integer"
        },
        {
         "name": "Glucose",
         "rawType": "int64",
         "type": "integer"
        },
        {
         "name": "BloodPressure",
         "rawType": "int64",
         "type": "integer"
        },
        {
         "name": "SkinThickness",
         "rawType": "int64",
         "type": "integer"
        },
        {
         "name": "Insulin",
         "rawType": "int64",
         "type": "integer"
        },
        {
         "name": "BMI",
         "rawType": "float64",
         "type": "float"
        },
        {
         "name": "DiabetesPedigreeFunction",
         "rawType": "float64",
         "type": "float"
        },
        {
         "name": "Age",
         "rawType": "int64",
         "type": "integer"
        },
        {
         "name": "Outcome",
         "rawType": "int64",
         "type": "integer"
        },
        {
         "name": "Overweight",
         "rawType": "int64",
         "type": "integer"
        }
       ],
       "ref": "fef6c3c9-470a-4590-b2c8-5e745cf44884",
       "rows": [
        [
         "0",
         "2",
         "138",
         "62",
         "35",
         "0",
         "33.6",
         "0.127",
         "47",
         "1",
         "1"
        ],
        [
         "1",
         "0",
         "84",
         "82",
         "31",
         "125",
         "38.2",
         "0.233",
         "23",
         "0",
         "1"
        ],
        [
         "2",
         "0",
         "145",
         "0",
         "0",
         "0",
         "44.2",
         "0.63",
         "31",
         "1",
         "1"
        ],
        [
         "3",
         "0",
         "135",
         "68",
         "42",
         "250",
         "42.3",
         "0.365",
         "24",
         "1",
         "1"
        ],
        [
         "4",
         "1",
         "139",
         "62",
         "41",
         "480",
         "40.7",
         "0.536",
         "21",
         "0",
         "1"
        ],
        [
         "5",
         "0",
         "173",
         "78",
         "32",
         "265",
         "46.5",
         "1.159",
         "58",
         "0",
         "1"
        ],
        [
         "6",
         "4",
         "99",
         "72",
         "17",
         "0",
         "25.6",
         "0.294",
         "28",
         "0",
         "1"
        ],
        [
         "7",
         "8",
         "194",
         "80",
         "0",
         "0",
         "26.1",
         "0.551",
         "67",
         "0",
         "1"
        ],
        [
         "8",
         "2",
         "83",
         "65",
         "28",
         "66",
         "36.8",
         "0.629",
         "24",
         "0",
         "1"
        ],
        [
         "9",
         "2",
         "89",
         "90",
         "30",
         "0",
         "33.5",
         "0.292",
         "42",
         "0",
         "1"
        ],
        [
         "10",
         "4",
         "99",
         "68",
         "38",
         "0",
         "32.8",
         "0.145",
         "33",
         "0",
         "1"
        ],
        [
         "11",
         "4",
         "125",
         "70",
         "18",
         "122",
         "28.9",
         "1.144",
         "45",
         "1",
         "1"
        ],
        [
         "12",
         "3",
         "80",
         "0",
         "0",
         "0",
         "0.0",
         "0.174",
         "22",
         "0",
         "0"
        ],
        [
         "13",
         "6",
         "166",
         "74",
         "0",
         "0",
         "26.6",
         "0.304",
         "66",
         "0",
         "1"
        ],
        [
         "14",
         "5",
         "110",
         "68",
         "0",
         "0",
         "26.0",
         "0.292",
         "30",
         "0",
         "1"
        ],
        [
         "15",
         "2",
         "81",
         "72",
         "15",
         "76",
         "30.1",
         "0.547",
         "25",
         "0",
         "1"
        ],
        [
         "16",
         "7",
         "195",
         "70",
         "33",
         "145",
         "25.1",
         "0.163",
         "55",
         "1",
         "1"
        ],
        [
         "17",
         "6",
         "154",
         "74",
         "32",
         "193",
         "29.3",
         "0.839",
         "39",
         "0",
         "1"
        ],
        [
         "18",
         "2",
         "117",
         "90",
         "19",
         "71",
         "25.2",
         "0.313",
         "21",
         "0",
         "1"
        ],
        [
         "19",
         "3",
         "84",
         "72",
         "32",
         "0",
         "37.2",
         "0.267",
         "28",
         "0",
         "1"
        ],
        [
         "20",
         "6",
         "0",
         "68",
         "41",
         "0",
         "39.0",
         "0.727",
         "41",
         "1",
         "1"
        ],
        [
         "21",
         "7",
         "94",
         "64",
         "25",
         "79",
         "33.3",
         "0.738",
         "41",
         "0",
         "1"
        ],
        [
         "22",
         "3",
         "96",
         "78",
         "39",
         "0",
         "37.3",
         "0.238",
         "40",
         "0",
         "1"
        ],
        [
         "23",
         "10",
         "75",
         "82",
         "0",
         "0",
         "33.3",
         "0.263",
         "38",
         "0",
         "1"
        ],
        [
         "24",
         "0",
         "180",
         "90",
         "26",
         "90",
         "36.5",
         "0.314",
         "35",
         "1",
         "1"
        ],
        [
         "25",
         "1",
         "130",
         "60",
         "23",
         "170",
         "28.6",
         "0.692",
         "21",
         "0",
         "1"
        ],
        [
         "26",
         "2",
         "84",
         "50",
         "23",
         "76",
         "30.4",
         "0.968",
         "21",
         "0",
         "1"
        ],
        [
         "27",
         "8",
         "120",
         "78",
         "0",
         "0",
         "25.0",
         "0.409",
         "64",
         "0",
         "0"
        ],
        [
         "28",
         "12",
         "84",
         "72",
         "31",
         "0",
         "29.7",
         "0.297",
         "46",
         "1",
         "1"
        ],
        [
         "29",
         "0",
         "139",
         "62",
         "17",
         "210",
         "22.1",
         "0.207",
         "21",
         "0",
         "0"
        ],
        [
         "30",
         "9",
         "91",
         "68",
         "0",
         "0",
         "24.2",
         "0.2",
         "58",
         "0",
         "0"
        ],
        [
         "31",
         "2",
         "91",
         "62",
         "0",
         "0",
         "27.3",
         "0.525",
         "22",
         "0",
         "1"
        ],
        [
         "32",
         "3",
         "99",
         "54",
         "19",
         "86",
         "25.6",
         "0.154",
         "24",
         "0",
         "1"
        ],
        [
         "33",
         "3",
         "163",
         "70",
         "18",
         "105",
         "31.6",
         "0.268",
         "28",
         "1",
         "1"
        ],
        [
         "34",
         "10",
         "122",
         "78",
         "31",
         "0",
         "27.6",
         "0.512",
         "45",
         "0",
         "1"
        ],
        [
         "35",
         "4",
         "103",
         "60",
         "33",
         "192",
         "24.0",
         "0.966",
         "33",
         "0",
         "0"
        ],
        [
         "36",
         "11",
         "138",
         "76",
         "0",
         "0",
         "33.2",
         "0.42",
         "35",
         "0",
         "1"
        ],
        [
         "37",
         "9",
         "102",
         "76",
         "37",
         "0",
         "32.9",
         "0.665",
         "46",
         "1",
         "1"
        ],
        [
         "38",
         "2",
         "90",
         "68",
         "42",
         "0",
         "38.2",
         "0.503",
         "27",
         "1",
         "1"
        ],
        [
         "39",
         "4",
         "111",
         "72",
         "47",
         "207",
         "37.1",
         "1.39",
         "56",
         "1",
         "1"
        ],
        [
         "40",
         "3",
         "180",
         "64",
         "25",
         "70",
         "34.0",
         "0.271",
         "26",
         "0",
         "1"
        ],
        [
         "41",
         "7",
         "133",
         "84",
         "0",
         "0",
         "40.2",
         "0.696",
         "37",
         "0",
         "1"
        ],
        [
         "42",
         "7",
         "106",
         "92",
         "18",
         "0",
         "22.7",
         "0.235",
         "48",
         "0",
         "0"
        ],
        [
         "43",
         "9",
         "171",
         "110",
         "24",
         "240",
         "45.4",
         "0.721",
         "54",
         "1",
         "1"
        ],
        [
         "44",
         "7",
         "159",
         "64",
         "0",
         "0",
         "27.4",
         "0.294",
         "40",
         "0",
         "1"
        ],
        [
         "45",
         "0",
         "180",
         "66",
         "39",
         "0",
         "42.0",
         "1.893",
         "25",
         "1",
         "1"
        ],
        [
         "46",
         "1",
         "146",
         "56",
         "0",
         "0",
         "29.7",
         "0.564",
         "29",
         "0",
         "1"
        ],
        [
         "47",
         "2",
         "71",
         "70",
         "27",
         "0",
         "28.0",
         "0.586",
         "22",
         "0",
         "1"
        ],
        [
         "48",
         "7",
         "103",
         "66",
         "32",
         "0",
         "39.1",
         "0.344",
         "31",
         "1",
         "1"
        ],
        [
         "49",
         "7",
         "105",
         "0",
         "0",
         "0",
         "0.0",
         "0.305",
         "24",
         "0",
         "0"
        ]
       ],
       "shape": {
        "columns": 10,
        "rows": 2000
       }
      },
      "text/html": [
       "<div>\n",
       "<style scoped>\n",
       "    .dataframe tbody tr th:only-of-type {\n",
       "        vertical-align: middle;\n",
       "    }\n",
       "\n",
       "    .dataframe tbody tr th {\n",
       "        vertical-align: top;\n",
       "    }\n",
       "\n",
       "    .dataframe thead th {\n",
       "        text-align: right;\n",
       "    }\n",
       "</style>\n",
       "<table border=\"1\" class=\"dataframe\">\n",
       "  <thead>\n",
       "    <tr style=\"text-align: right;\">\n",
       "      <th></th>\n",
       "      <th>Pregnancies</th>\n",
       "      <th>Glucose</th>\n",
       "      <th>BloodPressure</th>\n",
       "      <th>SkinThickness</th>\n",
       "      <th>Insulin</th>\n",
       "      <th>BMI</th>\n",
       "      <th>DiabetesPedigreeFunction</th>\n",
       "      <th>Age</th>\n",
       "      <th>Outcome</th>\n",
       "      <th>Overweight</th>\n",
       "    </tr>\n",
       "  </thead>\n",
       "  <tbody>\n",
       "    <tr>\n",
       "      <th>0</th>\n",
       "      <td>2</td>\n",
       "      <td>138</td>\n",
       "      <td>62</td>\n",
       "      <td>35</td>\n",
       "      <td>0</td>\n",
       "      <td>33.6</td>\n",
       "      <td>0.127</td>\n",
       "      <td>47</td>\n",
       "      <td>1</td>\n",
       "      <td>1</td>\n",
       "    </tr>\n",
       "    <tr>\n",
       "      <th>1</th>\n",
       "      <td>0</td>\n",
       "      <td>84</td>\n",
       "      <td>82</td>\n",
       "      <td>31</td>\n",
       "      <td>125</td>\n",
       "      <td>38.2</td>\n",
       "      <td>0.233</td>\n",
       "      <td>23</td>\n",
       "      <td>0</td>\n",
       "      <td>1</td>\n",
       "    </tr>\n",
       "    <tr>\n",
       "      <th>2</th>\n",
       "      <td>0</td>\n",
       "      <td>145</td>\n",
       "      <td>0</td>\n",
       "      <td>0</td>\n",
       "      <td>0</td>\n",
       "      <td>44.2</td>\n",
       "      <td>0.630</td>\n",
       "      <td>31</td>\n",
       "      <td>1</td>\n",
       "      <td>1</td>\n",
       "    </tr>\n",
       "    <tr>\n",
       "      <th>3</th>\n",
       "      <td>0</td>\n",
       "      <td>135</td>\n",
       "      <td>68</td>\n",
       "      <td>42</td>\n",
       "      <td>250</td>\n",
       "      <td>42.3</td>\n",
       "      <td>0.365</td>\n",
       "      <td>24</td>\n",
       "      <td>1</td>\n",
       "      <td>1</td>\n",
       "    </tr>\n",
       "    <tr>\n",
       "      <th>4</th>\n",
       "      <td>1</td>\n",
       "      <td>139</td>\n",
       "      <td>62</td>\n",
       "      <td>41</td>\n",
       "      <td>480</td>\n",
       "      <td>40.7</td>\n",
       "      <td>0.536</td>\n",
       "      <td>21</td>\n",
       "      <td>0</td>\n",
       "      <td>1</td>\n",
       "    </tr>\n",
       "    <tr>\n",
       "      <th>...</th>\n",
       "      <td>...</td>\n",
       "      <td>...</td>\n",
       "      <td>...</td>\n",
       "      <td>...</td>\n",
       "      <td>...</td>\n",
       "      <td>...</td>\n",
       "      <td>...</td>\n",
       "      <td>...</td>\n",
       "      <td>...</td>\n",
       "      <td>...</td>\n",
       "    </tr>\n",
       "    <tr>\n",
       "      <th>1995</th>\n",
       "      <td>2</td>\n",
       "      <td>75</td>\n",
       "      <td>64</td>\n",
       "      <td>24</td>\n",
       "      <td>55</td>\n",
       "      <td>29.7</td>\n",
       "      <td>0.370</td>\n",
       "      <td>33</td>\n",
       "      <td>0</td>\n",
       "      <td>1</td>\n",
       "    </tr>\n",
       "    <tr>\n",
       "      <th>1996</th>\n",
       "      <td>8</td>\n",
       "      <td>179</td>\n",
       "      <td>72</td>\n",
       "      <td>42</td>\n",
       "      <td>130</td>\n",
       "      <td>32.7</td>\n",
       "      <td>0.719</td>\n",
       "      <td>36</td>\n",
       "      <td>1</td>\n",
       "      <td>1</td>\n",
       "    </tr>\n",
       "    <tr>\n",
       "      <th>1997</th>\n",
       "      <td>6</td>\n",
       "      <td>85</td>\n",
       "      <td>78</td>\n",
       "      <td>0</td>\n",
       "      <td>0</td>\n",
       "      <td>31.2</td>\n",
       "      <td>0.382</td>\n",
       "      <td>42</td>\n",
       "      <td>0</td>\n",
       "      <td>1</td>\n",
       "    </tr>\n",
       "    <tr>\n",
       "      <th>1998</th>\n",
       "      <td>0</td>\n",
       "      <td>129</td>\n",
       "      <td>110</td>\n",
       "      <td>46</td>\n",
       "      <td>130</td>\n",
       "      <td>67.1</td>\n",
       "      <td>0.319</td>\n",
       "      <td>26</td>\n",
       "      <td>1</td>\n",
       "      <td>1</td>\n",
       "    </tr>\n",
       "    <tr>\n",
       "      <th>1999</th>\n",
       "      <td>2</td>\n",
       "      <td>81</td>\n",
       "      <td>72</td>\n",
       "      <td>15</td>\n",
       "      <td>76</td>\n",
       "      <td>30.1</td>\n",
       "      <td>0.547</td>\n",
       "      <td>25</td>\n",
       "      <td>0</td>\n",
       "      <td>1</td>\n",
       "    </tr>\n",
       "  </tbody>\n",
       "</table>\n",
       "<p>2000 rows × 10 columns</p>\n",
       "</div>"
      ],
      "text/plain": [
       "      Pregnancies  Glucose  BloodPressure  SkinThickness  Insulin   BMI  \\\n",
       "0               2      138             62             35        0  33.6   \n",
       "1               0       84             82             31      125  38.2   \n",
       "2               0      145              0              0        0  44.2   \n",
       "3               0      135             68             42      250  42.3   \n",
       "4               1      139             62             41      480  40.7   \n",
       "...           ...      ...            ...            ...      ...   ...   \n",
       "1995            2       75             64             24       55  29.7   \n",
       "1996            8      179             72             42      130  32.7   \n",
       "1997            6       85             78              0        0  31.2   \n",
       "1998            0      129            110             46      130  67.1   \n",
       "1999            2       81             72             15       76  30.1   \n",
       "\n",
       "      DiabetesPedigreeFunction  Age  Outcome  Overweight  \n",
       "0                        0.127   47        1           1  \n",
       "1                        0.233   23        0           1  \n",
       "2                        0.630   31        1           1  \n",
       "3                        0.365   24        1           1  \n",
       "4                        0.536   21        0           1  \n",
       "...                        ...  ...      ...         ...  \n",
       "1995                     0.370   33        0           1  \n",
       "1996                     0.719   36        1           1  \n",
       "1997                     0.382   42        0           1  \n",
       "1998                     0.319   26        1           1  \n",
       "1999                     0.547   25        0           1  \n",
       "\n",
       "[2000 rows x 10 columns]"
      ]
     },
     "execution_count": 44,
     "metadata": {},
     "output_type": "execute_result"
    }
   ],
   "source": [
    "diabetes['Overweight'] = (diabetes['BMI'] > 25).astype(int)\n",
    "diabetes"
   ]
  },
  {
   "cell_type": "markdown",
   "id": "910a939f",
   "metadata": {},
   "source": [
    "You are to code the next function, which discretize all the variables of the dataset, except `Outcome` and `Overweight`. Remember that you will discretize with respect to the quantiles of each variables: if a variable value is less than Q1, then said value is replaced by a **zero**; if the given value is greater or equal than Q1 but less than Q2, then the value should be replaced by a **one**; if the variable value is greater or equal than Q2 but less than Q3, then the value should be replaced by a **two**; finally, if a variable value is greater than Q3, it should be assigned the value **three**. "
   ]
  },
  {
   "cell_type": "code",
   "execution_count": 45,
   "id": "242077e2",
   "metadata": {},
   "outputs": [],
   "source": [
    "def discretize(df):\n",
    "\n",
    "    \"\"\"\n",
    "    This function receives a dataframe as input and returns a dataframe in which each variable has been\n",
    "    discretized.\n",
    "    \"\"\"\n",
    "\n",
    "    discretized_df = df.copy()\n",
    "    exclude = {'Overweight','Outcome'}\n",
    "\n",
    "    for column in discretized_df:\n",
    "        q1 = discretized_df[column].quantile(0.25)\n",
    "        q2 = discretized_df[column].quantile(0.50)\n",
    "        q3 = discretized_df[column].quantile(0.75)\n",
    "\n",
    "        if column in exclude:\n",
    "            continue\n",
    "\n",
    "        for i, variable in enumerate(discretized_df[column]):  # enumerate to update values\n",
    "            if variable < q1:\n",
    "                discretized_df.at[i, column] = 0\n",
    "            elif variable < q2:\n",
    "                discretized_df.at[i, column] = 1\n",
    "            elif variable < q3:\n",
    "                discretized_df.at[i, column] = 2\n",
    "            else:\n",
    "                discretized_df.at[i, column] = 3\n",
    "\n",
    "    return discretized_df"
   ]
  },
  {
   "cell_type": "code",
   "execution_count": 46,
   "id": "7a1080ca",
   "metadata": {},
   "outputs": [],
   "source": [
    "discrete_df = discretize(diabetes)"
   ]
  },
  {
   "cell_type": "markdown",
   "id": "d69a0854",
   "metadata": {},
   "source": [
    "## Ilustración de variable"
   ]
  },
  {
   "cell_type": "code",
   "execution_count": 47,
   "id": "4c01e232",
   "metadata": {},
   "outputs": [
    {
     "data": {
      "image/png": "[encoded data removed]",
      "text/plain": [
       "<Figure size 600x400 with 1 Axes>"
      ]
     },
     "metadata": {},
     "output_type": "display_data"
    }
   ],
   "source": [
    "# Boxplot\n",
    "plt.figure(figsize=(6,4))\n",
    "plt.boxplot(diabetes[\"Glucose\"], vert=True, patch_artist=True)\n",
    "plt.title(\"Boxplot de la columna 'glucosa'\")\n",
    "plt.ylabel(\"Probability\")\n",
    "plt.show()"
   ]
  },
  {
   "cell_type": "code",
   "execution_count": 48,
   "id": "ff1431d2",
   "metadata": {},
   "outputs": [],
   "source": [
    "unique_values = discrete_df['Outcome'].unique()"
   ]
  },
  {
   "cell_type": "markdown",
   "id": "454cee1f",
   "metadata": {},
   "source": [
    "In the following cel you are to create two dictionaries: `graph` will store the topology of the Bayesian network, so each element is associated to a list that contains the names of the parents of said element; `values` stores the values that each variable of the network takes, which are the discrete values that were computed above."
   ]
  },
  {
   "cell_type": "code",
   "execution_count": 49,
   "id": "0a4c5463",
   "metadata": {},
   "outputs": [],
   "source": [
    "graph = {'Overweight': [], \n",
    "         'DiabetesPedigreeFunction': [], \n",
    "         'Age': [], \n",
    "         'Pregnancies': [],\n",
    "         'SkinThickness' : ['Overweight'], \n",
    "         'BMI': ['Overweight'],\n",
    "         'Outcome': ['Overweight','DiabetesPedigreeFunction','Age','Pregnancies'],\n",
    "         'BloodPressure': ['Outcome','Overweight'],\n",
    "         'Insulin': ['Outcome'],\n",
    "         'Glucose': ['Outcome']}\n",
    "\n",
    "\n",
    "values = {\n",
    "    'Overweight': [0,1],\n",
    "    'DiabetesPedigreeFunction': [0,1,2,3],\n",
    "    'Age': [0,1,2,3],\n",
    "    'Pregnancies': [0,1,2,3],\n",
    "    'SkinThickness': [0,1,2,3],\n",
    "    'BMI': [0,1,2,3],\n",
    "    'Outcome': [0,1],\n",
    "    'BloodPressure': [0,1,2,3],\n",
    "    'Insulin': [0,1,2,3],\n",
    "    'Glucose': [0,1,2,3]\n",
    "}"
   ]
  },
  {
   "cell_type": "markdown",
   "id": "2b678a6b",
   "metadata": {},
   "source": [
    "values = {\n",
    "    'Overweight': [0,1],\n",
    "    'DiabetesPedigreeFunction': [0,1,2,3],\n",
    "    'Age': [0,1,2,3],\n",
    "    'Pregnancies': [0,1,2,3],\n",
    "    'SkinThickness': [0,1,2,3],\n",
    "    'BMI': [0,1,2,3],\n",
    "    'Outcome': [0,1],\n",
    "    'BloodPressure': [0,1,2,3],\n",
    "    'Insulin': [0,1,2,3],\n",
    "    'Glucose': [0,1,2,3]\n",
    "}"
   ]
  },
  {
   "cell_type": "markdown",
   "id": "8432917e",
   "metadata": {},
   "source": [
    "The next function obtains the probabilities of a given node. This function will be used later to create a dictionary in which each element contains a node and its list of probabilities."
   ]
  },
  {
   "cell_type": "code",
   "execution_count": 50,
   "id": "5da4d722",
   "metadata": {},
   "outputs": [],
   "source": [
    "import itertools\n",
    "\n",
    "def probabilities(df, node):\n",
    "    probabilities_list = []\n",
    "\n",
    "    # padres del nodo\n",
    "    parents = graph[node]\n",
    "\n",
    "    # si no tiene padres -> prob marginal\n",
    "    if not parents:\n",
    "        total = len(df)\n",
    "        for val in values[node]:\n",
    "            count = len(df[df[node] == val])\n",
    "            prob = count / total if total > 0 else 0\n",
    "            probabilities_list.append({\n",
    "                \"node\": node,\n",
    "                \"parents\": {},\n",
    "                \"value\": val,\n",
    "                \"probability\": prob\n",
    "            })\n",
    "        return probabilities_list\n",
    "\n",
    "    # si tiene padres -> prob condicional\n",
    "    parent_values = [values[p] for p in parents]\n",
    "\n",
    "    for combo in itertools.product(*parent_values):\n",
    "        parent_condition = dict(zip(parents, combo))\n",
    "        df_filtered = df.copy()\n",
    "        for p, v in parent_condition.items():\n",
    "            df_filtered = df_filtered[df_filtered[p] == v]\n",
    "\n",
    "        total_parent = len(df_filtered)\n",
    "\n",
    "        for val in values[node]:\n",
    "            count = len(df_filtered[df_filtered[node] == val])\n",
    "            prob = count / total_parent if total_parent > 0 else 0.5\n",
    "\n",
    "            probabilities_list.append({\n",
    "                \"node\": node,\n",
    "                \"parents\": parent_condition,\n",
    "                \"value\": val,\n",
    "                \"probability\": prob\n",
    "            })\n",
    "\n",
    "    return probabilities_list\n"
   ]
  },
  {
   "cell_type": "code",
   "execution_count": 51,
   "id": "deca65f9",
   "metadata": {},
   "outputs": [
    {
     "data": {
      "application/vnd.microsoft.datawrangler.viewer.v0+json": {
       "columns": [
        {
         "name": "index",
         "rawType": "object",
         "type": "string"
        },
        {
         "name": "node",
         "rawType": "object",
         "type": "string"
        },
        {
         "name": "parents",
         "rawType": "int64",
         "type": "integer"
        },
        {
         "name": "value",
         "rawType": "int64",
         "type": "integer"
        },
        {
         "name": "probability",
         "rawType": "float64",
         "type": "float"
        }
       ],
       "ref": "a2efaf77-231d-4692-a224-b17a32d4e652",
       "rows": [
        [
         "Overweight",
         "Outcome",
         "0",
         "0",
         "1.0"
        ],
        [
         "DiabetesPedigreeFunction",
         "Outcome",
         "0",
         "0",
         "1.0"
        ],
        [
         "Age",
         "Outcome",
         "0",
         "0",
         "1.0"
        ],
        [
         "Pregnancies",
         "Outcome",
         "0",
         "0",
         "1.0"
        ]
       ],
       "shape": {
        "columns": 4,
        "rows": 4
       }
      },
      "text/html": [
       "<div>\n",
       "<style scoped>\n",
       "    .dataframe tbody tr th:only-of-type {\n",
       "        vertical-align: middle;\n",
       "    }\n",
       "\n",
       "    .dataframe tbody tr th {\n",
       "        vertical-align: top;\n",
       "    }\n",
       "\n",
       "    .dataframe thead th {\n",
       "        text-align: right;\n",
       "    }\n",
       "</style>\n",
       "<table border=\"1\" class=\"dataframe\">\n",
       "  <thead>\n",
       "    <tr style=\"text-align: right;\">\n",
       "      <th></th>\n",
       "      <th>node</th>\n",
       "      <th>parents</th>\n",
       "      <th>value</th>\n",
       "      <th>probability</th>\n",
       "    </tr>\n",
       "  </thead>\n",
       "  <tbody>\n",
       "    <tr>\n",
       "      <th>Overweight</th>\n",
       "      <td>Outcome</td>\n",
       "      <td>0</td>\n",
       "      <td>0</td>\n",
       "      <td>1.0</td>\n",
       "    </tr>\n",
       "    <tr>\n",
       "      <th>DiabetesPedigreeFunction</th>\n",
       "      <td>Outcome</td>\n",
       "      <td>0</td>\n",
       "      <td>0</td>\n",
       "      <td>1.0</td>\n",
       "    </tr>\n",
       "    <tr>\n",
       "      <th>Age</th>\n",
       "      <td>Outcome</td>\n",
       "      <td>0</td>\n",
       "      <td>0</td>\n",
       "      <td>1.0</td>\n",
       "    </tr>\n",
       "    <tr>\n",
       "      <th>Pregnancies</th>\n",
       "      <td>Outcome</td>\n",
       "      <td>0</td>\n",
       "      <td>0</td>\n",
       "      <td>1.0</td>\n",
       "    </tr>\n",
       "  </tbody>\n",
       "</table>\n",
       "</div>"
      ],
      "text/plain": [
       "                             node  parents  value  probability\n",
       "Overweight                Outcome        0      0          1.0\n",
       "DiabetesPedigreeFunction  Outcome        0      0          1.0\n",
       "Age                       Outcome        0      0          1.0\n",
       "Pregnancies               Outcome        0      0          1.0"
      ]
     },
     "execution_count": 51,
     "metadata": {},
     "output_type": "execute_result"
    }
   ],
   "source": [
    "check= probabilities(discrete_df,'Outcome')\n",
    "pd.DataFrame(check[0])"
   ]
  },
  {
   "cell_type": "markdown",
   "id": "6ca8ecad",
   "metadata": {},
   "source": [
    "como existen valor es que no pueden ser prob obtenemos 102 de suma con lo siguiente observaremos que valores son los que dan cero"
   ]
  },
  {
   "cell_type": "code",
   "execution_count": 52,
   "id": "f29d1f2a",
   "metadata": {},
   "outputs": [
    {
     "name": "stdout",
     "output_type": "stream",
     "text": [
      "                                           parents_str  probability\n",
      "0    [('Age', 0), ('DiabetesPedigreeFunction', 0), ...          1.0\n",
      "1    [('Age', 0), ('DiabetesPedigreeFunction', 0), ...          1.0\n",
      "2    [('Age', 0), ('DiabetesPedigreeFunction', 0), ...          1.0\n",
      "3    [('Age', 0), ('DiabetesPedigreeFunction', 0), ...          1.0\n",
      "4    [('Age', 0), ('DiabetesPedigreeFunction', 0), ...          1.0\n",
      "..                                                 ...          ...\n",
      "123  [('Age', 3), ('DiabetesPedigreeFunction', 3), ...          1.0\n",
      "124  [('Age', 3), ('DiabetesPedigreeFunction', 3), ...          1.0\n",
      "125  [('Age', 3), ('DiabetesPedigreeFunction', 3), ...          1.0\n",
      "126  [('Age', 3), ('DiabetesPedigreeFunction', 3), ...          1.0\n",
      "127  [('Age', 3), ('DiabetesPedigreeFunction', 3), ...          1.0\n",
      "\n",
      "[128 rows x 2 columns]\n"
     ]
    }
   ],
   "source": [
    "# Convertir lista de diccionarios a DataFrame\n",
    "df = pd.DataFrame(check)\n",
    "\n",
    "# como parents es dict, lo pasamos a string para poder agrupar\n",
    "df[\"parents_str\"] = df[\"parents\"].apply(lambda x: str(sorted(x.items())))\n",
    "\n",
    "# agrupamos por parents y sumamos\n",
    "assert_probability = df.groupby(\"parents_str\")[\"probability\"].sum().reset_index()\n",
    "\n",
    "print(assert_probability)\n"
   ]
  },
  {
   "cell_type": "markdown",
   "id": "d57eb77e",
   "metadata": {},
   "source": [
    "The following function must create a dictionary in which item is a node and its corresponding list of probabilities"
   ]
  },
  {
   "cell_type": "code",
   "execution_count": 53,
   "id": "a0def965",
   "metadata": {},
   "outputs": [],
   "source": [
    "def tables(df):\n",
    "    \"\"\"\n",
    "    Returns a dictionary where each key is a node name\n",
    "    and the value is a list of numeric probabilities for that node.\n",
    "    \"\"\"\n",
    "    probabilities_tables = {}\n",
    "    \n",
    "    for node in graph.keys():  \n",
    "        # llamamos a probabilities y extraemos solo los números\n",
    "        probs = probabilities(df, node)\n",
    "        probabilities_tables[node] = [entry['probability'] for entry in probs]\n",
    "    \n",
    "    return probabilities_tables\n",
    "\n"
   ]
  },
  {
   "cell_type": "code",
   "execution_count": 54,
   "id": "48a823b4",
   "metadata": {},
   "outputs": [],
   "source": [
    "#asignar de la tabla de probabilidades las probanilidades de cada nodo como variable ind\n",
    "tables_prob = tables(discrete_df)\n",
    "sumas = []\n",
    "long = []\n",
    "\n",
    "for node in tables_prob:\n",
    "    sum_node = sum(tables_prob[node])  \n",
    "    sumas.append((node, sum_node))\n",
    "\n",
    "for node in tables_prob:\n",
    "    sum_node = len(tables_prob[node])\n",
    "    long.append((node, sum_node))"
   ]
  },
  {
   "cell_type": "code",
   "execution_count": 55,
   "id": "49d02a8d",
   "metadata": {},
   "outputs": [],
   "source": [
    "overweight_probabilities=tables_prob['Overweight']\n",
    "diabetes_pedigree_function_probabilities=tables_prob['DiabetesPedigreeFunction']\n",
    "age_probabilities=tables_prob['Age']\n",
    "pregnancies_probabilities=tables_prob['Pregnancies']\n",
    "skin_thickness_probabilities=tables_prob['SkinThickness']\n",
    "bmi_probabilities=tables_prob['BMI']\n",
    "outcome_probabilities=tables_prob['Outcome']\n",
    "blood_pressure_probabilities=tables_prob['BloodPressure']\n",
    "insulin_probabilities=tables_prob['Insulin']\n",
    "glucose_probabilities=tables_prob['Glucose']"
   ]
  },
  {
   "cell_type": "code",
   "execution_count": 56,
   "id": "6052c23f",
   "metadata": {},
   "outputs": [],
   "source": [
    "values = {\n",
    "    'Overweight': ['0','1'],\n",
    "    'DiabetesPedigreeFunction': ['0','1','2','3'],\n",
    "    'Age': ['0','1','2','3'],\n",
    "    'Pregnancies': ['0','1','2','3'],\n",
    "    'SkinThickness': ['0','1','2','3'],\n",
    "    'BMI': ['0','1','2','3'],\n",
    "    'Outcome': ['0','1'],\n",
    "    'BloodPressure': ['0','1','2','3'],\n",
    "    'Insulin': ['0','1','2','3'],\n",
    "    'Glucose': ['0','1','2','3']\n",
    "}"
   ]
  },
  {
   "cell_type": "markdown",
   "id": "36ab329f",
   "metadata": {},
   "source": [
    "Create the nodes of the network in this cell. For each line, replace `\"node index\"` and the empty list by the proper variable name and variable values, respectively."
   ]
  },
  {
   "cell_type": "code",
   "execution_count": 57,
   "id": "3783b4c4",
   "metadata": {},
   "outputs": [],
   "source": [
    "#crear los nodos para la red bayesiana usando valores posibles, nombre, probabilidades dado Xpadres\n",
    "overweight = BbnNode(Variable(0, 'Overweight', values['Overweight']), overweight_probabilities)\n",
    "diabetes_pedigree_function = BbnNode(Variable(1, 'DiabetesPedigreeFunction', values['DiabetesPedigreeFunction']), diabetes_pedigree_function_probabilities)\n",
    "age = BbnNode(Variable(2, 'Age', values['Age']), age_probabilities)\n",
    "pregnancies = BbnNode(Variable(3, 'Pregnancies', values['Pregnancies']), pregnancies_probabilities)\n",
    "skin_thickness = BbnNode(Variable(4, 'SkinThickness', values['SkinThickness']), skin_thickness_probabilities)\n",
    "bmi = BbnNode(Variable(5, 'BMI', values['BMI']), bmi_probabilities)\n",
    "outcome = BbnNode(Variable(6, 'Outcome', values['Outcome']), outcome_probabilities)\n",
    "blood_pressure = BbnNode(Variable(7, 'BloodPressure', values['BloodPressure']), blood_pressure_probabilities)\n",
    "insulin = BbnNode(Variable(8, 'Insulin', values['Insulin']), insulin_probabilities)\n",
    "glucose = BbnNode(Variable(9, 'Glucose', values['Glucose']), glucose_probabilities)"
   ]
  },
  {
   "cell_type": "markdown",
   "id": "0ffa1a81",
   "metadata": {},
   "source": [
    "Implement your graph in the following cell. Add as many nodes and edges as necessary. Replace the strings by the proper variables."
   ]
  },
  {
   "cell_type": "code",
   "execution_count": 58,
   "id": "337aa95e",
   "metadata": {},
   "outputs": [],
   "source": [
    "bbn = Bbn() \\\n",
    "    .add_node(overweight) \\\n",
    "    .add_node(outcome) \\\n",
    "    .add_node(diabetes_pedigree_function) \\\n",
    "    .add_node(age) \\\n",
    "    .add_node(pregnancies) \\\n",
    "    .add_node(skin_thickness) \\\n",
    "    .add_node(bmi) \\\n",
    "    .add_node(blood_pressure) \\\n",
    "    .add_node(insulin) \\\n",
    "    .add_node(glucose) \\\n",
    "    .add_edge(Edge(age, outcome, EdgeType.DIRECTED)) \\\n",
    "    .add_edge(Edge(pregnancies,outcome , EdgeType.DIRECTED)) \\\n",
    "    .add_edge(Edge(diabetes_pedigree_function, outcome, EdgeType.DIRECTED)) \\\n",
    "    .add_edge(Edge(overweight,outcome , EdgeType.DIRECTED)) \\\n",
    "    .add_edge(Edge(outcome,insulin , EdgeType.DIRECTED)) \\\n",
    "    .add_edge(Edge(outcome,glucose , EdgeType.DIRECTED)) \\\n",
    "    .add_edge(Edge(outcome,blood_pressure , EdgeType.DIRECTED)) \\\n",
    "    .add_edge(Edge(overweight,blood_pressure , EdgeType.DIRECTED)) \\\n",
    "    .add_edge(Edge(overweight,skin_thickness , EdgeType.DIRECTED)) \\\n",
    "    .add_edge(Edge(overweight,bmi , EdgeType.DIRECTED)) \n",
    "   # .add_edge(Edge(origin, destino, EdgeType.DIRECTED)) \\"
   ]
  },
  {
   "cell_type": "markdown",
   "id": "c5df353f",
   "metadata": {},
   "source": [
    "Do not forget to run this cell and do not modify it, inferences depend on it."
   ]
  },
  {
   "cell_type": "code",
   "execution_count": 59,
   "id": "c2c8f824",
   "metadata": {},
   "outputs": [],
   "source": [
    "# Convert the BBN to a join tree. Do not modify this cell.\n",
    "join_tree = InferenceController.apply(bbn)"
   ]
  },
  {
   "cell_type": "code",
   "execution_count": 60,
   "id": "1a768136",
   "metadata": {},
   "outputs": [
    {
     "name": "stdout",
     "output_type": "stream",
     "text": [
      "Node: 2|Age|0,1,2,3\n",
      "Values:\n",
      "5=0|0.25000\n",
      "5=1|0.24900\n",
      "5=2|0.25000\n",
      "5=3|0.25100\n",
      "----------------\n"
     ]
    }
   ],
   "source": [
    "potential = join_tree.get_bbn_potential(bmi)\n",
    "print(\"Node:\", age)\n",
    "print(\"Values:\")\n",
    "print(potential)\n",
    "print('----------------')"
   ]
  },
  {
   "cell_type": "markdown",
   "id": "c64cbf94",
   "metadata": {},
   "source": [
    "The following cell is very useful for visualizing your Bayesian network. It is very recommended that you make the necessary changes and run it to verify that your network was implementented correctly."
   ]
  },
  {
   "cell_type": "code",
   "execution_count": 61,
   "id": "385f2d86",
   "metadata": {},
   "outputs": [
    {
     "data": {
      "image/png": "[encoded data removed]",
      "text/plain": [
       "<Figure size 640x480 with 1 Axes>"
      ]
     },
     "metadata": {},
     "output_type": "display_data"
    }
   ],
   "source": [
    "\n",
    "\n",
    "pos = {0:(10,0),1:(10,10),2:(-10,10),3:(-10,0),4:(20,10),5:(20,-10),6:(0,0),7:(10,-10),8:(-10,-10),9:(0,-20)}\n",
    "\n",
    "options = {\"font_size\" : 8, \"node_size\" : 3000, \"node_color\" : \"ORANGE\", \n",
    "           \"edgecolors\" : \"ORANGE\", \"edge_color\" : \"GREEN\", \"linewidths\" : 2.5, \n",
    "           \"width\": 1}\n",
    "    \n",
    "n, d = bbn.to_nx_graph()\n",
    "nx.draw(n, with_labels=True, labels=d, pos=pos, **options)\n",
    "ax = plt.gca()\n",
    "ax.margins(0.3)\n",
    "plt.axis(\"off\")\n",
    "plt.show()"
   ]
  },
  {
   "cell_type": "markdown",
   "id": "2fcf4fcd",
   "metadata": {},
   "source": [
    "The goal of `print_probs` is to print out the probability distributions of all the nodes of the network. You can modify this code to print only the distributions of certain nodes if you find that helpful."
   ]
  },
  {
   "cell_type": "code",
   "execution_count": 62,
   "id": "89954e02",
   "metadata": {},
   "outputs": [
    {
     "name": "stdout",
     "output_type": "stream",
     "text": [
      "Node: 0|Overweight|0,1\n",
      "Values:\n",
      "0=0|0.15300\n",
      "0=1|0.84700\n",
      "----------------\n",
      "Node: 4|SkinThickness|0,1,2,3\n",
      "Values:\n",
      "4=0|0.00000\n",
      "4=1|0.48100\n",
      "4=2|0.22900\n",
      "4=3|0.29000\n",
      "----------------\n",
      "Node: 5|BMI|0,1,2,3\n",
      "Values:\n",
      "5=0|0.25000\n",
      "5=1|0.24900\n",
      "5=2|0.25000\n",
      "5=3|0.25100\n",
      "----------------\n",
      "Node: 6|Outcome|0,1\n",
      "Values:\n",
      "6=0|0.67886\n",
      "6=1|0.32114\n",
      "----------------\n",
      "Node: 8|Insulin|0,1,2,3\n",
      "Values:\n",
      "8=0|0.00000\n",
      "8=1|0.49884\n",
      "8=2|0.24957\n",
      "8=3|0.25159\n",
      "----------------\n",
      "Node: 9|Glucose|0,1,2,3\n",
      "Values:\n",
      "9=0|0.24097\n",
      "9=1|0.25846\n",
      "9=2|0.25432\n",
      "9=3|0.24625\n",
      "----------------\n",
      "Node: 7|BloodPressure|0,1,2,3\n",
      "Values:\n",
      "7=0|0.25229\n",
      "7=1|0.22574\n",
      "7=2|0.26586\n",
      "7=3|0.25612\n",
      "----------------\n",
      "Node: 1|DiabetesPedigreeFunction|0,1,2,3\n",
      "Values:\n",
      "1=0|0.24850\n",
      "1=1|0.25100\n",
      "1=2|0.24950\n",
      "1=3|0.25100\n",
      "----------------\n",
      "Node: 2|Age|0,1,2,3\n",
      "Values:\n",
      "2=0|0.23050\n",
      "2=1|0.25950\n",
      "2=2|0.24700\n",
      "2=3|0.26300\n",
      "----------------\n",
      "Node: 3|Pregnancies|0,1,2,3\n",
      "Values:\n",
      "3=0|0.15050\n",
      "3=1|0.32000\n",
      "3=2|0.26350\n",
      "3=3|0.26600\n",
      "----------------\n"
     ]
    }
   ],
   "source": [
    "def print_probs():\n",
    "    for node in join_tree.get_bbn_nodes():\n",
    "        potential = join_tree.get_bbn_potential(node)\n",
    "        print(\"Node:\", node)\n",
    "        print(\"Values:\")\n",
    "        print(potential)\n",
    "        print('----------------')\n",
    "\n",
    "print_probs()"
   ]
  },
  {
   "cell_type": "markdown",
   "id": "d20aca59",
   "metadata": {},
   "source": [
    "The function `evidence` helps tyou to create evidence that will be used for making inferences. Do not modify this cell, please."
   ]
  },
  {
   "cell_type": "code",
   "execution_count": 63,
   "id": "d81a3eec",
   "metadata": {},
   "outputs": [],
   "source": [
    "# To add evidence of events that happened so probability distribution can be recalculated.\n",
    "\n",
    "def evidence(ev, nod, val, like):\n",
    "    ev = EvidenceBuilder() \\\n",
    "    .with_node(join_tree.get_bbn_node_by_name(nod)) \\\n",
    "    .with_evidence(val, like) \\\n",
    "    .build()\n",
    "    join_tree.set_observation(ev)"
   ]
  },
  {
   "cell_type": "markdown",
   "id": "a5138591",
   "metadata": {},
   "source": [
    "Now you are ready to add evidence and print out the new distributions of your network. "
   ]
  },
  {
   "cell_type": "code",
   "execution_count": 64,
   "id": "cd79b476",
   "metadata": {},
   "outputs": [
    {
     "name": "stdout",
     "output_type": "stream",
     "text": [
      "Node: 0|Overweight|0,1\n",
      "Values:\n",
      "0=0|0.00000\n",
      "0=1|1.00000\n",
      "----------------\n",
      "Node: 4|SkinThickness|0,1,2,3\n",
      "Values:\n",
      "4=0|0.00000\n",
      "4=1|0.40791\n",
      "4=2|0.25620\n",
      "4=3|0.33589\n",
      "----------------\n",
      "Node: 5|BMI|0,1,2,3\n",
      "Values:\n",
      "5=0|0.00000\n",
      "5=1|1.00000\n",
      "5=2|0.00000\n",
      "5=3|0.00000\n",
      "----------------\n",
      "Node: 6|Outcome|0,1\n",
      "Values:\n",
      "6=0|0.59839\n",
      "6=1|0.40161\n",
      "----------------\n",
      "Node: 8|Insulin|0,1,2,3\n",
      "Values:\n",
      "8=0|0.00000\n",
      "8=1|0.50140\n",
      "8=2|0.23386\n",
      "8=3|0.26474\n",
      "----------------\n",
      "Node: 9|Glucose|0,1,2,3\n",
      "Values:\n",
      "9=0|0.21986\n",
      "9=1|0.24706\n",
      "9=2|0.25693\n",
      "9=3|0.27615\n",
      "----------------\n",
      "Node: 7|BloodPressure|0,1,2,3\n",
      "Values:\n",
      "7=0|0.21466\n",
      "7=1|0.23785\n",
      "7=2|0.26082\n",
      "7=3|0.28667\n",
      "----------------\n",
      "Node: 1|DiabetesPedigreeFunction|0,1,2,3\n",
      "Values:\n",
      "1=0|0.24850\n",
      "1=1|0.25100\n",
      "1=2|0.24950\n",
      "1=3|0.25100\n",
      "----------------\n",
      "Node: 2|Age|0,1,2,3\n",
      "Values:\n",
      "2=0|0.00000\n",
      "2=1|0.00000\n",
      "2=2|0.00000\n",
      "2=3|1.00000\n",
      "----------------\n",
      "Node: 3|Pregnancies|0,1,2,3\n",
      "Values:\n",
      "3=0|0.15050\n",
      "3=1|0.32000\n",
      "3=2|0.26350\n",
      "3=3|0.26600\n",
      "----------------\n"
     ]
    }
   ],
   "source": [
    "# Use above function to add evidence.\n",
    "\n",
    "evidence('ev1', 'BMI', '1', 1)\n",
    "evidence('ev2', 'Overweight', '1', 1)\n",
    "evidence('ev2', 'Age', '3', 1)\n",
    "\n",
    "# Print marginal probabilities.\n",
    "\n",
    "print_probs()"
   ]
  },
  {
   "cell_type": "markdown",
   "id": "1ed16fac",
   "metadata": {},
   "source": [
    "If you need to reset the Bayesian network, rerun this line of code or rerun the above cell twice."
   ]
  },
  {
   "cell_type": "code",
   "execution_count": 67,
   "id": "8c16d7ff",
   "metadata": {},
   "outputs": [],
   "source": [
    "join_tree = InferenceController.apply(bbn)"
   ]
  }
 ],
 "metadata": {
  "kernelspec": {
   "display_name": ".venv",
   "language": "python",
   "name": "python3"
  },
  "language_info": {
   "codemirror_mode": {
    "name": "ipython",
    "version": 3
   },
   "file_extension": ".py",
   "mimetype": "text/x-python",
   "name": "python",
   "nbconvert_exporter": "python",
   "pygments_lexer": "ipython3",
   "version": "3.12.3"
  }
 },
 "nbformat": 4,
 "nbformat_minor": 5
}
